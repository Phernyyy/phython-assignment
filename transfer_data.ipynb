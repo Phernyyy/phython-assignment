{
  "nbformat": 4,
  "nbformat_minor": 0,
  "metadata": {
    "colab": {
      "provenance": [],
      "authorship_tag": "ABX9TyOEJyvfp0wVI7/yl5K78iOQ",
      "include_colab_link": true
    },
    "kernelspec": {
      "name": "python3",
      "display_name": "Python 3"
    },
    "language_info": {
      "name": "python"
    }
  },
  "cells": [
    {
      "cell_type": "markdown",
      "metadata": {
        "id": "view-in-github",
        "colab_type": "text"
      },
      "source": [
        "<a href=\"https://colab.research.google.com/github/Phernyyy/python-assignment/blob/main/transfer_data.ipynb\" target=\"_parent\"><img src=\"https://colab.research.google.com/assets/colab-badge.svg\" alt=\"Open In Colab\"/></a>"
      ]
    },
    {
      "cell_type": "code",
      "execution_count": null,
      "metadata": {
        "id": "dfuor6aA4xFh"
      },
      "outputs": [],
      "source": [
        "import pandas as pd\n",
        "import numpy as np\n",
        "import openpyxl as xl\n",
        "from openpyxl import load_workbook"
      ]
    },
    {
      "cell_type": "code",
      "source": [
        "#wb = load_workbook('/content/dbd_raw_data_template(MitsubishiQ32023)Pre_1.xlsx')"
      ],
      "metadata": {
        "id": "HHd2-t-i5NK_"
      },
      "execution_count": null,
      "outputs": []
    },
    {
      "cell_type": "code",
      "source": [
        "excel_path = '/content/dbd_mitsubishi_template_pre1_edit_shareholder_name.xlsx'\n",
        "sheet_name = 'Template'  # Replace with your sheet name\n",
        "column_letter = 'B'     # Replace with the letter of the column you want (e.g., 'A', 'B', 'C')\n",
        "\n",
        "# Load the workbook\n",
        "wb = load_workbook(excel_path)\n",
        "\n",
        "# Select the desired worksheet\n",
        "ws = wb[sheet_name]\n",
        "\n",
        "# Extract values from the specified column\n",
        "column_values = [cell.value for cell in ws[column_letter]]"
      ],
      "metadata": {
        "id": "nAGuskO4zAi2"
      },
      "execution_count": null,
      "outputs": []
    },
    {
      "cell_type": "code",
      "source": [
        "df=pd.read_excel('/content/dbd_raw_data_template(MitsubishiQ32023).xlsx', sheet_name='All_Corporate')"
      ],
      "metadata": {
        "id": "UEh1TTsN00pl"
      },
      "execution_count": null,
      "outputs": []
    },
    {
      "cell_type": "code",
      "source": [
        "tax_id_values = df['เลขนิติบุคคล'].values"
      ],
      "metadata": {
        "id": "LzsI75jvJQ6C"
      },
      "execution_count": null,
      "outputs": []
    },
    {
      "cell_type": "code",
      "source": [
        "for id in tax_id_values :\n",
        "  new_ws = wb.copy_worksheet(wb['Template'])\n",
        "  new_ws.title = str(id)\n",
        "  new_ws['B1'] = id\n",
        "wb.save('/content/dbd_mitsubishi_template_pre1_edit_shareholder_name_v1.xlsx')"
      ],
      "metadata": {
        "id": "fvyn-3u1I1lt"
      },
      "execution_count": null,
      "outputs": []
    }
  ]
}